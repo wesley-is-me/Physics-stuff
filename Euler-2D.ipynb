{
 "cells": [
  {
   "cell_type": "markdown",
   "metadata": {},
   "source": [
    "# Overview\n",
    "\n",
    "Last week we used Euler's method for the first time.  Remember: If the acceleration of an object is **not constant**, it may be necessary to use a numerical approach, like Euler's method to solve the problem.  This week we will apply Euler's method to a two dimensional projectile motion situation.\n",
    "\n",
    "## Example Problem\n",
    "\n",
    "First, let's see how Euler's method could be used to find the trajectory of a projectile launched from an initial height of $h = 5 $m, with an initial speed of $v_i = 45$ m/s at an angle of $\\theta = 35^\\circ$ above the horizontal.  We will neglect the effect of air drag on this particle.  (In other words, we really don't need Euler's method for this problem, but it's still a good starting point for your learning.)\n",
    "\n",
    "The solution is below:\n",
    "\n"
   ]
  },
  {
   "cell_type": "code",
   "execution_count": 9,
   "metadata": {},
   "outputs": [
    {
     "data": {
      "image/png": "[encoded data removed]",
      "text/plain": [
       "<Figure size 432x288 with 1 Axes>"
      ]
     },
     "metadata": {
      "needs_background": "light"
     },
     "output_type": "display_data"
    }
   ],
   "source": [
    "from numpy import pi,sin,cos,array\n",
    "from matplotlib import pyplot\n",
    "\n",
    "h=5\n",
    "speed = 45\n",
    "theta = 35 * pi/180\n",
    "g = 9.8\n",
    "dt = 0.01\n",
    "t = 0\n",
    "\n",
    "r = array([0,h])\n",
    "v = array([speed * cos(theta), speed * sin(theta)])\n",
    "a = array([0,-g])\n",
    "\n",
    "pyplot.figure()\n",
    "while r[1] >= 0:\n",
    "    v = v + a * dt\n",
    "    r = r + v * dt\n",
    "    t = t + dt\n",
    "    pyplot.plot(r[0],r[1],'r.')\n",
    "pyplot.show()"
   ]
  },
  {
   "cell_type": "markdown",
   "metadata": {},
   "source": [
    "Now do the following:\n",
    "\n",
    "1. Look at every line of code and determine what is being done. Add a comment next to each line explaining the meaning of that line.\n",
    "2. Play with the initial conditions and verify that the results seem reasonable.  Here are some ideas:\n",
    "     1. Increase the launch height.  How does this affect the range of the particle?\n",
    "     2. Increase the laungh angle.  \n",
    "     3. Change the launch speed.\n",
    "3.  Now modify the code above to solve the problem below.  Then answer the questions.\n",
    "\n",
    "\n",
    "## Your Problem\n",
    "\n",
    "Consider a $10.8$ kg projectile launched with an initial speed of $92.3$ m/s, at an angle\n",
    "of $31.7^\\circ$ . The force due to air resistance is $F_D = −bv$, where $b = 8.43$ kg/s. (This\n",
    "is called linear drag because the velocity is not squared) The x- and y- components of the acceleration of the object are:\n",
    "\n",
    "$$ a_x = - {b  v_x\\over m}$$\n",
    "\n",
    "$$ a_y = -g - {b  v_y\\over m}$$\n",
    "\n",
    "1. What is the range of this particle?\n",
    "2. Use trial and error to determine the launch angle that results in maximum range of the projectile."
   ]
  },
  {
   "cell_type": "code",
   "execution_count": 31,
   "metadata": {},
   "outputs": [
    {
     "name": "stdout",
     "output_type": "stream",
     "text": [
      "The final x position traveled to is 99.01.\n",
      "The largest x position traveled to is 106.68 at 0.32 pi.\n"
     ]
    },
    {
     "data": {
      "image/png": "[encoded data removed]",
      "text/plain": [
       "<Figure size 432x288 with 1 Axes>"
      ]
     },
     "metadata": {
      "needs_background": "light"
     },
     "output_type": "display_data"
    },
    {
     "data": {
      "image/png": "[encoded data removed]",
      "text/plain": [
       "<Figure size 432x288 with 1 Axes>"
      ]
     },
     "metadata": {
      "needs_background": "light"
     },
     "output_type": "display_data"
    }
   ],
   "source": [
    "from numpy import pi,sin,cos,array\n",
    "from matplotlib import pyplot\n",
    "\n",
    "h=0\n",
    "speed = 92.3\n",
    "theta = 31.7 * pi/180\n",
    "g = 9.8\n",
    "dt = 0.01\n",
    "t = 0\n",
    "b = 8.43\n",
    "m = 10.8\n",
    "\n",
    "r = array([0,h])\n",
    "v = array([speed * cos(theta), speed * sin(theta)])\n",
    "\n",
    "\n",
    "pyplot.figure()\n",
    "while r[1] >= 0:\n",
    "    a = array([-(b * v[0])/m, -(g + (b * v[1])/ m)])\n",
    "    v = v + a * dt\n",
    "    r = r + v * dt\n",
    "    t = t + dt\n",
    "    pyplot.plot(r[0],r[1],'g.')\n",
    "print(f'The final x position traveled to is {r[0]:.2f}.')\n",
    "pyplot.grid()\n",
    "\n",
    "h=0\n",
    "speed = 92.3\n",
    "theta = 18.5 * pi/180\n",
    "g = 9.8\n",
    "dt = 0.01\n",
    "t = 0\n",
    "b = 8.43\n",
    "m = 10.8\n",
    "\n",
    "r = array([0,h])\n",
    "v = array([speed * cos(theta), speed * sin(theta)])\n",
    "\n",
    "\n",
    "pyplot.figure()\n",
    "while r[1] >= 0:\n",
    "    a = array([-(b * v[0])/m, -(g + (b * v[1])/ m)])\n",
    "    v = v + a * dt\n",
    "    r = r + v * dt\n",
    "    t = t + dt\n",
    "    pyplot.plot(r[0],r[1],'g.')\n",
    "print(f'The largest x position traveled to is {r[0]:.2f} at {theta:.2f} pi.')\n",
    "pyplot.grid()\n",
    "pyplot.show()"
   ]
  },
  {
   "cell_type": "code",
   "execution_count": null,
   "metadata": {},
   "outputs": [],
   "source": []
  }
 ],
 "metadata": {
  "kernelspec": {
   "display_name": "Python 3",
   "language": "python",
   "name": "python3"
  },
  "language_info": {
   "codemirror_mode": {
    "name": "ipython",
    "version": 3
   },
   "file_extension": ".py",
   "mimetype": "text/x-python",
   "name": "python",
   "nbconvert_exporter": "python",
   "pygments_lexer": "ipython3",
   "version": "3.10.2"
  }
 },
 "nbformat": 4,
 "nbformat_minor": 4
}
